{
 "cells": [
  {
   "cell_type": "code",
   "execution_count": 29,
   "metadata": {},
   "outputs": [
    {
     "name": "stdout",
     "output_type": "stream",
     "text": [
      "Tabla 'predicciones' creada exitosamente (si no existía).\n"
     ]
    }
   ],
   "source": [
    "import mysql.connector\n",
    "\n",
    "conn = mysql.connector.connect(\n",
    "    host=\"localhost\",\n",
    "    user=\"root\",  \n",
    "    password=\"password\",  \n",
    "    database=\"workshop_ml\"\n",
    ")\n",
    "\n",
    "\n",
    "cursor = conn.cursor()\n",
    "\n",
    "cursor.execute(\"\"\"\n",
    "CREATE TABLE IF NOT EXISTS predicciones (\n",
    "    id INT AUTO_INCREMENT PRIMARY KEY,\n",
    "    economy_gdp FLOAT,\n",
    "    family FLOAT,\n",
    "    health_life_expectancy FLOAT,\n",
    "    freedom FLOAT,\n",
    "    trust_government_corruption FLOAT,\n",
    "    generosity FLOAT,\n",
    "    happiness_score_predicho FLOAT\n",
    ")\n",
    "\"\"\")\n",
    "print(\"Tabla 'predicciones' creada exitosamente (si no existía).\")\n",
    "\n",
    "cursor.close()\n",
    "conn.close()\n"
   ]
  },
  {
   "cell_type": "code",
   "execution_count": 30,
   "metadata": {},
   "outputs": [
    {
     "name": "stdout",
     "output_type": "stream",
     "text": [
      "Predicciones guardadas exitosamente en la base de datos.\n"
     ]
    }
   ],
   "source": [
    "import pandas as pd\n",
    "from sklearn.model_selection import train_test_split\n",
    "from sklearn.ensemble import RandomForestRegressor\n",
    "import mysql.connector\n",
    "\n",
    "df_combined = pd.read_csv('../Data/dataset_combinado.csv') \n",
    "\n",
    "X = df_combined[['Economy (GDP per Capita)', 'Family', 'Health (Life Expectancy)', \n",
    "                 'Freedom', 'Trust (Government Corruption)', 'Generosity']]\n",
    "y = df_combined['Happiness Score']\n",
    "\n",
    "X_train, X_test, y_train, y_test = train_test_split(X, y, test_size=0.3, random_state=42)\n",
    "\n",
    "rf_model = RandomForestRegressor(n_estimators=100, random_state=42)\n",
    "rf_model.fit(X_train, y_train)\n",
    "\n",
    "y_pred = rf_model.predict(X_test)\n",
    "\n",
    "def guardar_predicciones_mysql(X_test, y_pred):\n",
    "  \n",
    "    conn = mysql.connector.connect(\n",
    "        host=\"localhost\",\n",
    "        user=\"root\",\n",
    "        password=\"password\",\n",
    "        database=\"workshop_ml\"\n",
    "    )\n",
    "    cursor = conn.cursor()\n",
    "\n",
    "    for i in range(len(y_pred)):\n",
    "        query = \"\"\"\n",
    "        INSERT INTO predicciones (economy_gdp, family, health_life_expectancy, freedom, trust_government_corruption, generosity, happiness_score_predicho)\n",
    "        VALUES (%s, %s, %s, %s, %s, %s, %s)\n",
    "        \"\"\"\n",
    "        \n",
    "        values = (float(X_test[i][0]), float(X_test[i][1]), float(X_test[i][2]), \n",
    "                  float(X_test[i][3]), float(X_test[i][4]), float(X_test[i][5]), float(y_pred[i]))\n",
    "        \n",
    "        cursor.execute(query, values)\n",
    "\n",
    "    \n",
    "    conn.commit()\n",
    "    print(\"Predicciones guardadas exitosamente en la base de datos.\")\n",
    "\n",
    "    cursor.close()\n",
    "    conn.close()\n",
    "\n",
    "guardar_predicciones_mysql(X_test.values, y_pred)\n"
   ]
  }
 ],
 "metadata": {
  "kernelspec": {
   "display_name": "Python 3",
   "language": "python",
   "name": "python3"
  },
  "language_info": {
   "codemirror_mode": {
    "name": "ipython",
    "version": 3
   },
   "file_extension": ".py",
   "mimetype": "text/x-python",
   "name": "python",
   "nbconvert_exporter": "python",
   "pygments_lexer": "ipython3",
   "version": "3.11.9"
  }
 },
 "nbformat": 4,
 "nbformat_minor": 2
}
